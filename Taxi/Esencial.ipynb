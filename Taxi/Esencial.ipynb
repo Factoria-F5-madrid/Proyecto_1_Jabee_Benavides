{
 "cells": [
  {
   "cell_type": "markdown",
   "id": "5ef5e082-9652-48c2-b565-1cc3726a5a13",
   "metadata": {},
   "source": [
    "# Nivel Esencial\n",
    "Desarrollar un programa CLI (Interfaz de Línea de Comandos) en Python.\n",
    "\n",
    "Al iniciar, el programa debe dar la bienvenida y explicar su funcionamiento.\n",
    "Implementar las siguientes funcionalidades básicas:\n",
    "Iniciar un trayecto.\n",
    "Calcular tarifa mientras el taxi está parado (2 céntimos por segundo).\n",
    "Calcular tarifa mientras el taxi está en movimiento (5 céntimos por segundo).\n",
    "Finalizar un trayecto y mostrar el total en euros.\n",
    "Permitir iniciar un nuevo trayecto sin cerrar el programa.\n"
   ]
  },
  {
   "cell_type": "code",
   "execution_count": 3,
   "id": "424c9bc9-fb38-40b0-b71e-df539f2edf4f",
   "metadata": {},
   "outputs": [],
   "source": [
    "import pandas as pd\n",
    "import numpy as np\n",
    "import matplotlib.pyplot as plt\n",
    "import os\n",
    "import time\n",
    "import logging as log"
   ]
  },
  {
   "cell_type": "code",
   "execution_count": 1,
   "id": "2b719c36-8218-43b7-9a47-19f525c7323d",
   "metadata": {},
   "outputs": [
    {
     "name": "stdout",
     "output_type": "stream",
     "text": [
      "     Bienvenido a su Taxímetro\n",
      "Este programa calcula el precio del recorrido de un taxi.\n"
     ]
    },
    {
     "name": "stdin",
     "output_type": "stream",
     "text": [
      "\n",
      "Presione ENTER para iniciar un nuevo trayecto. \n"
     ]
    },
    {
     "name": "stdout",
     "output_type": "stream",
     "text": [
      "\n",
      "Instrucciones:\n",
      "- Ingrese 'p' para indicar que el taxi está detenido.\n",
      "- Ingrese 'm' para indicar que el taxi está en movimiento.\n",
      "- Ingrese 'f' para finalizar el trayecto.\n",
      "\n"
     ]
    },
    {
     "name": "stdin",
     "output_type": "stream",
     "text": [
      "Estado actual (p = parado, m = movimiento, f = finalizar):  m\n"
     ]
    },
    {
     "name": "stdout",
     "output_type": "stream",
     "text": [
      "Taxi en movimiento. Subtotal movimiento: 0.51€\n"
     ]
    },
    {
     "name": "stdin",
     "output_type": "stream",
     "text": [
      "Estado actual (p = parado, m = movimiento, f = finalizar):  p\n"
     ]
    },
    {
     "name": "stdout",
     "output_type": "stream",
     "text": [
      "Taxi detenido. Subtotal detenido: 0.10€\n"
     ]
    },
    {
     "name": "stdin",
     "output_type": "stream",
     "text": [
      "Estado actual (p = parado, m = movimiento, f = finalizar):  f\n"
     ]
    },
    {
     "name": "stdout",
     "output_type": "stream",
     "text": [
      "\n",
      " RESUMEN DEL VIAJE \n",
      "Total por detenciones: 0.10€\n",
      "Total por movimiento:   0.51€\n",
      "TARIFA TOTAL:           0.60€\n",
      "\n"
     ]
    },
    {
     "name": "stdin",
     "output_type": "stream",
     "text": [
      "¿Desea iniciar un nuevo viaje? (si/no):  no\n"
     ]
    },
    {
     "name": "stdout",
     "output_type": "stream",
     "text": [
      "\n",
      "¡Gracias por usar el taxímetro! Hasta la próxima.\n"
     ]
    }
   ],
   "source": [
    "import time\n",
    "\n",
    "def bienvenidos():\n",
    "    print(\"     Bienvenido a su Taxímetro\")\n",
    "    print(\"Este programa calcula el precio del recorrido de un taxi.\")\n",
    "\n",
    "def calcular_tarifa():\n",
    "    TASA_DETENCION = 0.02  #  taxi detenido\n",
    "    TASA_MOVIMIENTO = 0.05  #  taxi en movimiento\n",
    "\n",
    "    while True:\n",
    "        input(\"\\nPresione ENTER para iniciar un nuevo trayecto.\")\n",
    "        print(\"\\nInstrucciones:\")\n",
    "        print(\"- Ingrese 'p' para indicar que el taxi está detenido.\")\n",
    "        print(\"- Ingrese 'm' para indicar que el taxi está en movimiento.\")\n",
    "        print(\"- Ingrese 'f' para finalizar el trayecto.\\n\")\n",
    "\n",
    "        total_detenido = 0.0\n",
    "        total_movimiento = 0.0\n",
    "        inicio_periodo = time.time()\n",
    "\n",
    "        while True:\n",
    "            opcion = input(\"Estado actual (p = parado, m = movimiento, f = finalizar): \").strip().lower()\n",
    "            tiempo_actual = time.time()\n",
    "            tiempo_transcurrido = tiempo_actual - inicio_periodo\n",
    "\n",
    "            if opcion == 'p':\n",
    "                total_detenido += tiempo_transcurrido * TASA_DETENCION\n",
    "                print(f\"Taxi detenido. Subtotal detenido: {total_detenido:.2f}€\")\n",
    "                inicio_periodo = tiempo_actual\n",
    "\n",
    "            elif opcion == 'm':\n",
    "                total_movimiento += tiempo_transcurrido * TASA_MOVIMIENTO\n",
    "                print(f\"Taxi en movimiento. Subtotal movimiento: {total_movimiento:.2f}€\")\n",
    "                inicio_periodo = tiempo_actual\n",
    "\n",
    "            elif opcion == 'f':\n",
    "                total_tarifa = total_detenido + total_movimiento\n",
    "                print(\"\\n RESUMEN DEL VIAJE \")\n",
    "                print(f\"Total por detenciones: {total_detenido:.2f}€\")\n",
    "                print(f\"Total por movimiento:   {total_movimiento:.2f}€\")\n",
    "                print(f\"TARIFA TOTAL:           {total_tarifa:.2f}€\\n\")\n",
    "                break\n",
    "\n",
    "            else:\n",
    "                print(\"Opción inválida. Por favor, intente nuevamente.\")\n",
    "\n",
    "        # Pregunta si desea iniciar un nuevo viaje (ubicado correctamente aquí)\n",
    "        while True:\n",
    "            reiniciar = input(\"¿Desea iniciar un nuevo viaje? (si/no): \").strip().lower()\n",
    "            if reiniciar == 'si':\n",
    "                print(\"\\n--- Iniciando nuevo viaje ---\\n\")\n",
    "                break  # Sale del bucle de validación y empieza de nuevo\n",
    "            elif reiniciar == 'no':\n",
    "                print(\"\\n¡Gracias por usar el taxímetro! Hasta la próxima.\")\n",
    "                return  # Finaliza la función\n",
    "            else:\n",
    "                print(\"Opción inválida. Por favor, escriba 'si' o 'no'.\")\n",
    "\n",
    "# Ejecutar programa\n",
    "bienvenidos()\n",
    "calcular_tarifa()\n"
   ]
  },
  {
   "cell_type": "markdown",
   "id": "fb9bc01d-f399-46cf-90ea-f188f78cf5f3",
   "metadata": {},
   "source": [
    "# Nivel Medio\n",
    "\n",
    "Implementar un sistema de logs para la trazabilidad del código.\n",
    "\n",
    "Agregar tests unitarios para asegurar el correcto funcionamiento del programa.\n",
    "\n",
    "Crear un registro histórico de trayectos pasados en un archivo de texto plano.\n",
    "\n",
    "Permitir la configuración de precios para adaptarse a la demanda actual."
   ]
  },
  {
   "cell_type": "code",
   "execution_count": 6,
   "id": "12854ec8-f03b-4545-bed0-9deab3c00d1d",
   "metadata": {},
   "outputs": [
    {
     "name": "stderr",
     "output_type": "stream",
     "text": [
      "WARNING:root:wacht out!\n"
     ]
    }
   ],
   "source": [
    "log.warning(\"wacht out!\") \n",
    "log.info(\"Te lo dije\")"
   ]
  },
  {
   "cell_type": "code",
   "execution_count": 11,
   "id": "32dd3304-121f-467a-9625-e69078aa3ec6",
   "metadata": {},
   "outputs": [
    {
     "name": "stderr",
     "output_type": "stream",
     "text": [
      "ERROR:__main__:Ni puta idea que se hace aqui\n"
     ]
    }
   ],
   "source": [
    "log2= log.getLogger(__name__)\n",
    "log.basicConfig(filename=\"ejemplo.log\", encoding=\"utf-8\", level=log.DEBUG)\n",
    "log2.debug(\"Este mensaje muestra un log\") \n",
    "log2.info(\"Puedes hacer esto\") \n",
    "log2.error(\"Ni puta idea que se hace aqui\") "
   ]
  },
  {
   "cell_type": "code",
   "execution_count": 14,
   "id": "4b753bca-18ab-4958-8c41-7771696a6f36",
   "metadata": {},
   "outputs": [
    {
     "name": "stdin",
     "output_type": "stream",
     "text": [
      "Ingresa el primer número:  3\n",
      "Ingresa el segundo número:  4\n"
     ]
    },
    {
     "name": "stdout",
     "output_type": "stream",
     "text": [
      "El número más grande es: 4\n"
     ]
    }
   ],
   "source": [
    "# Se leen dos números\n",
    "number1 = int(input(\"Ingresa el primer número: \"))\n",
    "number2 = int(input(\"Ingresa el segundo número: \"))\n",
    "\n",
    "# Elige el número más grande\n",
    "if number1 > number2:\n",
    "    larger_number = number1\n",
    "else:\n",
    "    larger_number = number2\n",
    "\n",
    "# Imprime el resultado\n",
    "print(\"El número más grande es:\", larger_number)\n",
    "\n"
   ]
  },
  {
   "cell_type": "code",
   "execution_count": 15,
   "id": "3ff71cfd-4b9d-4655-b402-cc344457de26",
   "metadata": {},
   "outputs": [
    {
     "name": "stdin",
     "output_type": "stream",
     "text": [
      "Ingresa el primer número:  3\n",
      "Ingresa el segundo número:  4\n"
     ]
    },
    {
     "name": "stdout",
     "output_type": "stream",
     "text": [
      "El número más grande es: 4\n"
     ]
    }
   ],
   "source": [
    "# Se leen dos números\n",
    "number1 = int(input(\"Ingresa el primer número: \"))\n",
    "number2 = int(input(\"Ingresa el segundo número: \"))\n",
    "\n",
    "# Elige el número más grande\n",
    "if number1 > number2: larger_number = number1\n",
    "else: larger_number = number2\n",
    "\n",
    "# Imprime el resultado\n",
    "print(\"El número más grande es:\", larger_number)"
   ]
  },
  {
   "cell_type": "code",
   "execution_count": 16,
   "id": "68076868-89fb-4427-a263-34bc88645e3b",
   "metadata": {},
   "outputs": [
    {
     "name": "stdin",
     "output_type": "stream",
     "text": [
      "Ingresa el primer número:  3\n",
      "Ingresa el segundo número:  4\n",
      "Ingresa el tercer número:  5\n"
     ]
    },
    {
     "name": "stdout",
     "output_type": "stream",
     "text": [
      "El número más grande es: 5\n"
     ]
    }
   ],
   "source": [
    "# Se leen tres números\n",
    "number1 = int(input(\"Ingresa el primer número: \"))\n",
    "number2 = int(input(\"Ingresa el segundo número: \"))\n",
    "number3 = int(input(\"Ingresa el tercer número: \"))\n",
    "\n",
    "# Asumimos temporalmente que el primer número\n",
    "# es el más grande.\n",
    "# Lo verificaremos pronto.\n",
    "largest_number = number1\n",
    "\n",
    "# Comprobamos si el segundo número es más grande que el mayor número actual\n",
    "# y actualiza el número más grande si es necesario.\n",
    "if number2 > largest_number:\n",
    "    largest_number = number2\n",
    "\n",
    "# Comprobamos si el tercer número es más grande que el mayor número actual\n",
    "# y actualiza el número más grande si es necesario.\n",
    "if number3 > largest_number:\n",
    "    largest_number = number3\n",
    "\n",
    "# Imprime el resultado.\n",
    "print(\"El número más grande es:\", largest_number)\n",
    "\n"
   ]
  },
  {
   "cell_type": "markdown",
   "id": "bfddead3-ec18-4133-a949-628ee59c1537",
   "metadata": {},
   "source": [
    "# Que son los Logs\n",
    "\n"
   ]
  },
  {
   "cell_type": "code",
   "execution_count": null,
   "id": "a00765ed-e64c-4548-9213-7883f84f2448",
   "metadata": {},
   "outputs": [],
   "source": []
  }
 ],
 "metadata": {
  "kernelspec": {
   "display_name": "Python [conda env:base] *",
   "language": "python",
   "name": "conda-base-py"
  },
  "language_info": {
   "codemirror_mode": {
    "name": "ipython",
    "version": 3
   },
   "file_extension": ".py",
   "mimetype": "text/x-python",
   "name": "python",
   "nbconvert_exporter": "python",
   "pygments_lexer": "ipython3",
   "version": "3.13.5"
  }
 },
 "nbformat": 4,
 "nbformat_minor": 5
}
